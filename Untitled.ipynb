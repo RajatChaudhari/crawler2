{
 "cells": [
  {
   "cell_type": "code",
   "execution_count": 1,
   "metadata": {},
   "outputs": [],
   "source": [
    "from bs4 import BeautifulSoup\n",
    "from selenium import webdriver\n",
    "import re, datetime\n",
    "import pandas as pd\n",
    "import numpy as np"
   ]
  },
  {
   "cell_type": "code",
   "execution_count": 2,
   "metadata": {},
   "outputs": [],
   "source": [
    "driver = webdriver.Chrome()"
   ]
  },
  {
   "cell_type": "code",
   "execution_count": 3,
   "metadata": {},
   "outputs": [],
   "source": [
    "driver.get(\"http://google.co.in\")"
   ]
  },
  {
   "cell_type": "code",
   "execution_count": 146,
   "metadata": {},
   "outputs": [],
   "source": [
    "a=driver.page_source"
   ]
  },
  {
   "cell_type": "code",
   "execution_count": 4,
   "metadata": {},
   "outputs": [],
   "source": [
    "textbox=driver.find_element_by_id('lst-ib')"
   ]
  },
  {
   "cell_type": "code",
   "execution_count": 5,
   "metadata": {},
   "outputs": [],
   "source": [
    "textbox.send_keys(\"Iceland Food , Jobs, slowdown, profit\")"
   ]
  },
  {
   "cell_type": "code",
   "execution_count": 6,
   "metadata": {},
   "outputs": [],
   "source": [
    "driver.find_element_by_name(\"btnK\").click()"
   ]
  },
  {
   "cell_type": "code",
   "execution_count": 7,
   "metadata": {},
   "outputs": [],
   "source": [
    "news=driver.find_elements_by_class_name(\"rc\")"
   ]
  },
  {
   "cell_type": "code",
   "execution_count": null,
   "metadata": {},
   "outputs": [],
   "source": [
    "for new in news:\n",
    "    print(new.find_element_by_css_selector('a').get_attribute(\"href\"))"
   ]
  },
  {
   "cell_type": "code",
   "execution_count": null,
   "metadata": {},
   "outputs": [],
   "source": [
    "for new in news:\n",
    "    spans=new.find_elements_by_class_name(\"f\")\n",
    "    for span in spans:\n",
    "        print(span.text)"
   ]
  },
  {
   "cell_type": "code",
   "execution_count": null,
   "metadata": {},
   "outputs": [],
   "source": [
    "\n",
    "for new in news:\n",
    "    spans=new.find_elements_by_css_selector(\"span\")\n",
    "    for span in spans:\n",
    "        print(span.text)"
   ]
  },
  {
   "cell_type": "code",
   "execution_count": 47,
   "metadata": {},
   "outputs": [],
   "source": [
    "df=pd.DataFrame(columns=[\"Date\",\"Link\"])\n",
    "links=[]\n",
    "dates=[]\n",
    "for new in news:\n",
    "    try:\n",
    "        links.append(new.find_element_by_css_selector('a').get_attribute('href'))\n",
    "    except:\n",
    "        links.append(\"no tag\")\n",
    "    try:\n",
    "        span=new.find_element_by_css_selector('span.f')\n",
    "        match = re.match('\\w[A-Za-z]* \\d[0-9]*, \\d[0-9]*', span.text)\n",
    "        dates.append(match.group())\n",
    "    except:\n",
    "        dates.append(\"no tag\")"
   ]
  },
  {
   "cell_type": "code",
   "execution_count": 48,
   "metadata": {},
   "outputs": [],
   "source": [
    "li = pd.Series(links)\n",
    "dt= pd.Series(dates)"
   ]
  },
  {
   "cell_type": "code",
   "execution_count": null,
   "metadata": {},
   "outputs": [],
   "source": []
  },
  {
   "cell_type": "code",
   "execution_count": null,
   "metadata": {},
   "outputs": [],
   "source": []
  },
  {
   "cell_type": "code",
   "execution_count": null,
   "metadata": {},
   "outputs": [],
   "source": []
  },
  {
   "cell_type": "code",
   "execution_count": 49,
   "metadata": {},
   "outputs": [],
   "source": [
    "df.Date=dt.values"
   ]
  },
  {
   "cell_type": "code",
   "execution_count": 50,
   "metadata": {},
   "outputs": [],
   "source": [
    "df.Link=li.values"
   ]
  },
  {
   "cell_type": "code",
   "execution_count": 51,
   "metadata": {},
   "outputs": [],
   "source": [
    "df.to_csv(\"Iceland1.csv\",sep=',',encoding='utf-8')"
   ]
  },
  {
   "cell_type": "code",
   "execution_count": null,
   "metadata": {},
   "outputs": [],
   "source": [
    "\n",
    "\n",
    "\n",
    "\n"
   ]
  },
  {
   "cell_type": "code",
   "execution_count": 29,
   "metadata": {},
   "outputs": [],
   "source": [
    "news=driver.find_elements_by_class_name(\"g\")"
   ]
  },
  {
   "cell_type": "code",
   "execution_count": 44,
   "metadata": {},
   "outputs": [],
   "source": []
  },
  {
   "cell_type": "code",
   "execution_count": 45,
   "metadata": {},
   "outputs": [
    {
     "data": {
      "text/plain": [
       "['http://www.thisismoney.co.uk/money/markets/article-3635147/Iceland-posts-flat-profits-extremely-challenging-UK-grocery-market-takes-toll-frozen-food-chain.html',\n",
       " 'http://www.thisismoney.co.uk/money/markets/article-2163174/Record-results-frozen-food-chain-Iceland-profits-rise-18-5.html',\n",
       " 'https://www.retailgazette.co.uk/blog/2017/06/iceland-revamp-pays-off-profits-soar/',\n",
       " 'https://www.theguardian.com/business/2011/jun/10/iceland-supermarket-record-profits-drive-up-bid-price',\n",
       " 'http://btvi.in/article/read/industry/79660/iceland-sees-first-half-earnings-slowdown-this-year?mm-options=value-toppers',\n",
       " 'https://www.insider.co.uk/company-results-forecasts/iceland-profits-dip-supply-investment-12712009',\n",
       " 'https://www.telegraph.co.uk/finance/newsbysector/retailandconsumer/11665416/Iceland-suffers-sharp-fall-in-sales-and-profits.html',\n",
       " 'https://www.indeed.co.uk/cmp/Iceland-Foods-Ltd/reviews',\n",
       " 'https://www.walesonline.co.uk/business/business-news/frozen-food-retailer-iceland-reveals-4208203',\n",
       " 'https://www.icenews.is/2009/06/12/iceland-beats-recession-significant-growth-not-slowing/']"
      ]
     },
     "execution_count": 45,
     "metadata": {},
     "output_type": "execute_result"
    }
   ],
   "source": [
    "links"
   ]
  },
  {
   "cell_type": "code",
   "execution_count": 46,
   "metadata": {},
   "outputs": [
    {
     "data": {
      "text/plain": [
       "['Jun 10, 2016',\n",
       " 'Jun 22, 2012',\n",
       " 'Jun 5, 2017',\n",
       " 'Jun 10, 2011',\n",
       " 'Jun 15, 2018',\n",
       " 'Jun 15, 2018',\n",
       " 'Jun 10, 2015',\n",
       " 'no tag',\n",
       " 'Jun 7, 2013',\n",
       " 'Jun 12, 2009']"
      ]
     },
     "execution_count": 46,
     "metadata": {},
     "output_type": "execute_result"
    }
   ],
   "source": [
    "dates"
   ]
  },
  {
   "cell_type": "code",
   "execution_count": null,
   "metadata": {},
   "outputs": [],
   "source": []
  },
  {
   "cell_type": "code",
   "execution_count": null,
   "metadata": {},
   "outputs": [],
   "source": []
  },
  {
   "cell_type": "code",
   "execution_count": null,
   "metadata": {},
   "outputs": [],
   "source": []
  },
  {
   "cell_type": "code",
   "execution_count": null,
   "metadata": {},
   "outputs": [],
   "source": []
  },
  {
   "cell_type": "code",
   "execution_count": null,
   "metadata": {},
   "outputs": [],
   "source": []
  },
  {
   "cell_type": "code",
   "execution_count": null,
   "metadata": {},
   "outputs": [],
   "source": []
  }
 ],
 "metadata": {
  "kernelspec": {
   "display_name": "Python 3",
   "language": "python",
   "name": "python3"
  },
  "language_info": {
   "codemirror_mode": {
    "name": "ipython",
    "version": 3
   },
   "file_extension": ".py",
   "mimetype": "text/x-python",
   "name": "python",
   "nbconvert_exporter": "python",
   "pygments_lexer": "ipython3",
   "version": "3.6.5"
  }
 },
 "nbformat": 4,
 "nbformat_minor": 2
}
